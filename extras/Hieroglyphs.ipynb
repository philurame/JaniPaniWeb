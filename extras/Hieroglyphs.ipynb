{
 "cells": [
  {
   "cell_type": "markdown",
   "metadata": {},
   "source": [
    "# load HieroglyphDB from .json"
   ]
  },
  {
   "cell_type": "code",
   "execution_count": 1,
   "metadata": {},
   "outputs": [],
   "source": [
    "from hieroglyph_class import *\n",
    "import pickle\n",
    "import json\n",
    "from enum import Enum\n",
    "from dataclasses import is_dataclass, asdict\n",
    "\n",
    "def load_hieroglyphDB_from_json(filename: str) -> HieroglyphDB:\n",
    "  def dict_to_reading(d: dict) -> Reading:\n",
    "    return Reading(\n",
    "        onyomi=d[\"onyomi\"],\n",
    "        kunyomi=d[\"kunyomi\"],\n",
    "        vocab=d[\"vocab\"],\n",
    "        main_reading=d[\"main_reading\"]\n",
    "      )\n",
    "\n",
    "  def dict_to_mnemonics(d: dict) -> Mnemonics:\n",
    "    return Mnemonics(\n",
    "      meaning=d[\"meaning\"],\n",
    "      reading=d[\"reading\"]\n",
    "    )\n",
    "\n",
    "  def dict_to_resource_paths(d: dict) -> ResourcePaths:\n",
    "    return ResourcePaths(\n",
    "      pic=d[\"pic\"],\n",
    "      sound=d[\"sound\"],\n",
    "      wanikani_link=d[\"wanikani_link\"]\n",
    "    )\n",
    "\n",
    "  def dict_to_hieroglyph(d: dict) -> Hieroglyph:\n",
    "    hieroglyph_type = HieroglyphType(d[\"hieroglyph_type\"])\n",
    "    reading = dict_to_reading(d[\"readings\"])\n",
    "    mnemonics = dict_to_mnemonics(d[\"mnemonics\"])\n",
    "    resource_paths = dict_to_resource_paths(d[\"resource_paths\"])\n",
    "    sentences = [tuple(s) for s in d[\"sentences\"]]\n",
    "\n",
    "    return Hieroglyph(\n",
    "      symbol=d[\"symbol\"],\n",
    "      level=d[\"level\"],\n",
    "      hieroglyph_type=hieroglyph_type,\n",
    "      meanings=d[\"meanings\"],\n",
    "      readings=reading,\n",
    "      mnemonics=mnemonics,\n",
    "      sentences=sentences,\n",
    "      resource_paths=resource_paths\n",
    "    )\n",
    "\n",
    "  def dict_to_hieroglyphDB(d: dict) -> HieroglyphDB:\n",
    "    hieroglyphs = [dict_to_hieroglyph(h) for h in d[\"hieroglyphs\"]]\n",
    "    return HieroglyphDB(hieroglyphs=hieroglyphs)\n",
    "\n",
    "  # Load the JSON file\n",
    "  with open(filename, \"r\", encoding=\"utf-8\") as f:\n",
    "    data = json.load(f)\n",
    "\n",
    "  # Reconstruct HieroglyphDB from the loaded dictionary\n",
    "  return dict_to_hieroglyphDB(data)\n",
    "\n",
    "\n",
    "db = load_hieroglyphDB_from_json(\"../HieroglyphDB.json\")\n",
    "# with open('HieroglyphDB.pkl', 'wb') as f:\n",
    "#   pickle.dump(db, f)"
   ]
  },
  {
   "cell_type": "markdown",
   "metadata": {},
   "source": [
    "# dump HieroglyphDB to .json"
   ]
  },
  {
   "cell_type": "code",
   "execution_count": 41,
   "metadata": {},
   "outputs": [
    {
     "name": "stdout",
     "output_type": "stream",
     "text": [
      "HieroglyphDB successfully converted to HieroglyphDB.json\n"
     ]
    }
   ],
   "source": [
    "from hieroglyph_class import *\n",
    "import pickle\n",
    "import json\n",
    "from enum import Enum\n",
    "from dataclasses import is_dataclass, asdict\n",
    "\n",
    "def enum_to_value(obj):\n",
    "  # Converts enum instances to their value\n",
    "  return obj.value if isinstance(obj, Enum) else obj\n",
    "\n",
    "def dataclass_to_dict(obj):\n",
    "  # Recursively converts dataclasses (and lists, tuples) to dict for JSON serialization\n",
    "  if is_dataclass(obj):\n",
    "    result = {}\n",
    "    for field_name in obj.__dataclass_fields__:\n",
    "      field_value = getattr(obj, field_name)\n",
    "      result[field_name] = dataclass_to_dict(field_value)\n",
    "    return result\n",
    "  elif isinstance(obj, list):\n",
    "    return [dataclass_to_dict(item) for item in obj]\n",
    "  elif isinstance(obj, tuple):\n",
    "    return tuple(dataclass_to_dict(item) for item in obj)\n",
    "  elif isinstance(obj, Enum):\n",
    "    return enum_to_value(obj)\n",
    "  else:\n",
    "    return obj\n",
    "\n",
    "# # Load the pickled HieroglyphDB\n",
    "# with open('HieroglyphDB.pkl', 'rb') as f:\n",
    "#   db: HieroglyphDB = pickle.load(f)\n",
    "\n",
    "# Convert to JSON-serializable dictionary\n",
    "db_dict = dataclass_to_dict(db)\n",
    "\n",
    "# Write out to JSON\n",
    "with open('../HieroglyphDB.json', 'w', encoding='utf-8') as f:\n",
    "  json.dump(db_dict, f, ensure_ascii=False, indent=2)\n",
    "\n",
    "print(\"HieroglyphDB successfully converted to HieroglyphDB.json\")"
   ]
  },
  {
   "cell_type": "markdown",
   "metadata": {},
   "source": [
    "# separate HieroglyphDB on chunks"
   ]
  },
  {
   "cell_type": "code",
   "execution_count": 93,
   "metadata": {},
   "outputs": [],
   "source": [
    "import pickle\n",
    "from hieroglyph_class import *\n",
    "\n",
    "with open('HieroglyphDB.pkl', 'rb') as f:\n",
    "  db = pickle.load(f)\n",
    "\n",
    "db_lvls = {i:[] for i in range(0,60,5)}\n",
    "for i in db:\n",
    "  db_lvls[(i.level-1)//5 * 5].append(i)\n",
    "\n",
    "for i in db_lvls:\n",
    "  db_dict = dataclass_to_dict(HieroglyphDB(db_lvls[i]))\n",
    "  with open(f'../jsons/HieroglyphDB_{i}.json', 'w', encoding='utf-8') as f:\n",
    "    json.dump(db_dict, f, ensure_ascii=False, indent=2)\n"
   ]
  }
 ],
 "metadata": {
  "kernelspec": {
   "display_name": "global_venv",
   "language": "python",
   "name": "python3"
  },
  "language_info": {
   "codemirror_mode": {
    "name": "ipython",
    "version": 3
   },
   "file_extension": ".py",
   "mimetype": "text/x-python",
   "name": "python",
   "nbconvert_exporter": "python",
   "pygments_lexer": "ipython3",
   "version": "3.9.6"
  }
 },
 "nbformat": 4,
 "nbformat_minor": 2
}
